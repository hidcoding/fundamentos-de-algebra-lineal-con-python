{
 "cells": [
  {
   "cell_type": "code",
   "execution_count": 3,
   "id": "abdcaa92",
   "metadata": {},
   "outputs": [
    {
     "name": "stdout",
     "output_type": "stream",
     "text": [
      "3.8.8\n"
     ]
    }
   ],
   "source": [
    "from platform import python_version\n",
    "print(python_version())\n",
    "#shift enter ejecuta y crea nueva celda\n",
    "#control enter ejecuta "
   ]
  },
  {
   "cell_type": "code",
   "execution_count": 4,
   "id": "17a442e6",
   "metadata": {},
   "outputs": [],
   "source": [
    "#control barra comenta todas la lineas seleccionadas\n",
    "\n",
    "# sdaf\n",
    "# sdf\n",
    "# asdf\n",
    "# asd\n",
    "# fasdf"
   ]
  },
  {
   "cell_type": "code",
   "execution_count": 5,
   "id": "b74add1e",
   "metadata": {},
   "outputs": [],
   "source": [
    "# si deamos abrir jupyter en otro navegador diferente al \n",
    "# predeterminado  "
   ]
  },
  {
   "cell_type": "code",
   "execution_count": 7,
   "id": "7bbca4d3",
   "metadata": {},
   "outputs": [],
   "source": [
    "# por cuestiones de performance el profesor recomienda no exeder de 100 celdas\n",
    "# si el analisis lo requiere es mejor partir el trabajo en diferentes notebooks"
   ]
  },
  {
   "cell_type": "code",
   "execution_count": null,
   "id": "16ea362f",
   "metadata": {},
   "outputs": [],
   "source": [
    "para poder utlizar codigo escrito en otro notebook, podemos traerlo como codigo \n",
    "auxiliar\n",
    "%run \"..\\\\funciones_auxiliares\\\"\n",
    "\n"
   ]
  }
 ],
 "metadata": {
  "kernelspec": {
   "display_name": "Python 3",
   "language": "python",
   "name": "python3"
  },
  "language_info": {
   "codemirror_mode": {
    "name": "ipython",
    "version": 3
   },
   "file_extension": ".py",
   "mimetype": "text/x-python",
   "name": "python",
   "nbconvert_exporter": "python",
   "pygments_lexer": "ipython3",
   "version": "3.8.8"
  }
 },
 "nbformat": 4,
 "nbformat_minor": 5
}
